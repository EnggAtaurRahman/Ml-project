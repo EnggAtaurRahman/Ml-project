{
 "cells": [
  {
   "cell_type": "code",
   "execution_count": 77,
   "metadata": {},
   "outputs": [],
   "source": [
    "import numpy as np\n",
    "import pandas as pd\n",
    "import seaborn\n",
    "import matplotlib.pyplot as plt\n",
    "from sklearn.model_selection import train_test_split\n",
    "from sklearn.ensemble import RandomForestClassifier\n",
    "from sklearn.metrics import confusion_matrix\n",
    "from sklearn import metrics\n",
    "from sklearn.metrics import auc\n",
    "from sklearn.metrics import classification_report\n",
    "from sklearn.decomposition import PCA"
   ]
  },
  {
   "cell_type": "code",
   "execution_count": 58,
   "metadata": {
    "scrolled": true
   },
   "outputs": [
    {
     "data": {
      "text/html": [
       "<div>\n",
       "<style scoped>\n",
       "    .dataframe tbody tr th:only-of-type {\n",
       "        vertical-align: middle;\n",
       "    }\n",
       "\n",
       "    .dataframe tbody tr th {\n",
       "        vertical-align: top;\n",
       "    }\n",
       "\n",
       "    .dataframe thead th {\n",
       "        text-align: right;\n",
       "    }\n",
       "</style>\n",
       "<table border=\"1\" class=\"dataframe\">\n",
       "  <thead>\n",
       "    <tr style=\"text-align: right;\">\n",
       "      <th></th>\n",
       "      <th>ï»¿customer_id</th>\n",
       "      <th>name</th>\n",
       "      <th>email</th>\n",
       "      <th>product_model</th>\n",
       "      <th>quantity</th>\n",
       "      <th>price</th>\n",
       "      <th>address</th>\n",
       "      <th>phone</th>\n",
       "      <th>date</th>\n",
       "      <th>status</th>\n",
       "      <th>message</th>\n",
       "    </tr>\n",
       "  </thead>\n",
       "  <tbody>\n",
       "    <tr>\n",
       "      <th>0</th>\n",
       "      <td>6341c53254f03b67ec8262b2</td>\n",
       "      <td>Mamunur Rashid</td>\n",
       "      <td>mamun723548@gmail.com</td>\n",
       "      <td>Sanhema Spoke Rim Double Folding Bicycle - Whi...</td>\n",
       "      <td>3</td>\n",
       "      <td>15000</td>\n",
       "      <td>Natore</td>\n",
       "      <td>1521322300</td>\n",
       "      <td>09/10/2022</td>\n",
       "      <td>Pending</td>\n",
       "      <td>hi</td>\n",
       "    </tr>\n",
       "    <tr>\n",
       "      <th>1</th>\n",
       "      <td>6341c56854f03b67ec8262bf</td>\n",
       "      <td>Mamunur Rashid</td>\n",
       "      <td>mamun723548@gmail.com</td>\n",
       "      <td>Fitbit Ionic GPS Smart Watch</td>\n",
       "      <td>2</td>\n",
       "      <td>25500</td>\n",
       "      <td>Natore</td>\n",
       "      <td>1521322300</td>\n",
       "      <td>09/10/2022</td>\n",
       "      <td>Pending</td>\n",
       "      <td>okay</td>\n",
       "    </tr>\n",
       "    <tr>\n",
       "      <th>2</th>\n",
       "      <td>634f86288bb9c2aeb01e74f7</td>\n",
       "      <td>Mahbubur Rahman</td>\n",
       "      <td>Mahbubur@gmail.com</td>\n",
       "      <td>Stainless Steel Strap Watch For Mens (NN38051S...</td>\n",
       "      <td>1</td>\n",
       "      <td>3500</td>\n",
       "      <td>Fulbaria</td>\n",
       "      <td>1721628756</td>\n",
       "      <td>02/09/2021</td>\n",
       "      <td>Shipped</td>\n",
       "      <td>This is good</td>\n",
       "    </tr>\n",
       "    <tr>\n",
       "      <th>3</th>\n",
       "      <td>634f8a4d6eec9304e95e43bf</td>\n",
       "      <td>Ataur Rahman</td>\n",
       "      <td>ataur@gmail.com</td>\n",
       "      <td>Stainless Steel Strap Watch For Mens (NN38051S...</td>\n",
       "      <td>1</td>\n",
       "      <td>3500</td>\n",
       "      <td>Lalmonirhat</td>\n",
       "      <td>1721627456</td>\n",
       "      <td>29/10/2021</td>\n",
       "      <td>Shipped</td>\n",
       "      <td>This is good</td>\n",
       "    </tr>\n",
       "    <tr>\n",
       "      <th>4</th>\n",
       "      <td>634f8a4d6eec9304e95e43c0</td>\n",
       "      <td>Mamunur Rashid</td>\n",
       "      <td>ma723548@gmail.com</td>\n",
       "      <td>Realme C35</td>\n",
       "      <td>1</td>\n",
       "      <td>16990</td>\n",
       "      <td>Natore</td>\n",
       "      <td>1721022306</td>\n",
       "      <td>29/10/2021</td>\n",
       "      <td>Shipped</td>\n",
       "      <td>Hello</td>\n",
       "    </tr>\n",
       "    <tr>\n",
       "      <th>...</th>\n",
       "      <td>...</td>\n",
       "      <td>...</td>\n",
       "      <td>...</td>\n",
       "      <td>...</td>\n",
       "      <td>...</td>\n",
       "      <td>...</td>\n",
       "      <td>...</td>\n",
       "      <td>...</td>\n",
       "      <td>...</td>\n",
       "      <td>...</td>\n",
       "      <td>...</td>\n",
       "    </tr>\n",
       "    <tr>\n",
       "      <th>998</th>\n",
       "      <td>634f8ace6eec9304e95fa36e</td>\n",
       "      <td>Khalilur Rashid</td>\n",
       "      <td>rashid@gmail.com</td>\n",
       "      <td>Xiaomi Haylou RS4 Smartwatch With AMOLED HD Di...</td>\n",
       "      <td>1</td>\n",
       "      <td>3850</td>\n",
       "      <td>Jamalpur</td>\n",
       "      <td>1621322300</td>\n",
       "      <td>29/10/2021</td>\n",
       "      <td>Shipped</td>\n",
       "      <td>Hi</td>\n",
       "    </tr>\n",
       "    <tr>\n",
       "      <th>999</th>\n",
       "      <td>634f8ace6eec9304e95fa36f</td>\n",
       "      <td>sadia</td>\n",
       "      <td>sadia@gmail.com</td>\n",
       "      <td>Stainless Steel Strap Watch For Menâs (NN380...</td>\n",
       "      <td>1</td>\n",
       "      <td>3500</td>\n",
       "      <td>Jamalpur</td>\n",
       "      <td>1521327750</td>\n",
       "      <td>2021-10-199</td>\n",
       "      <td>Shipped</td>\n",
       "      <td>This is good</td>\n",
       "    </tr>\n",
       "    <tr>\n",
       "      <th>1000</th>\n",
       "      <td>634f8ace6eec9304e95fa370</td>\n",
       "      <td>Shafique</td>\n",
       "      <td>Shafique@gmail.com</td>\n",
       "      <td>Realme C35</td>\n",
       "      <td>1</td>\n",
       "      <td>16990</td>\n",
       "      <td>kushtia</td>\n",
       "      <td>1821325400</td>\n",
       "      <td>2021-10-194</td>\n",
       "      <td>Shipped</td>\n",
       "      <td>Is this good enough?</td>\n",
       "    </tr>\n",
       "    <tr>\n",
       "      <th>1001</th>\n",
       "      <td>634f8ace6eec9304e95fa371</td>\n",
       "      <td>Faraz</td>\n",
       "      <td>faraz@gmail.com</td>\n",
       "      <td>Begasso Folding Bicycle- Yellow</td>\n",
       "      <td>1</td>\n",
       "      <td>18000</td>\n",
       "      <td>Netrokona</td>\n",
       "      <td>1521322300</td>\n",
       "      <td>2021-10-190</td>\n",
       "      <td>Shipped</td>\n",
       "      <td>Is this good enough?</td>\n",
       "    </tr>\n",
       "    <tr>\n",
       "      <th>1002</th>\n",
       "      <td>634f8ace6eec9304e95fa372</td>\n",
       "      <td>Jakir</td>\n",
       "      <td>Jakir@gmail.com</td>\n",
       "      <td>Begasso Folding Bicycle- Yellow</td>\n",
       "      <td>1</td>\n",
       "      <td>18000</td>\n",
       "      <td>Netrokona</td>\n",
       "      <td>1521322300</td>\n",
       "      <td>02/11/2022</td>\n",
       "      <td>Shipped</td>\n",
       "      <td>Is this good enough?</td>\n",
       "    </tr>\n",
       "  </tbody>\n",
       "</table>\n",
       "<p>1003 rows × 11 columns</p>\n",
       "</div>"
      ],
      "text/plain": [
       "                ï»¿customer_id             name                  email  \\\n",
       "0     6341c53254f03b67ec8262b2   Mamunur Rashid  mamun723548@gmail.com   \n",
       "1     6341c56854f03b67ec8262bf   Mamunur Rashid  mamun723548@gmail.com   \n",
       "2     634f86288bb9c2aeb01e74f7  Mahbubur Rahman     Mahbubur@gmail.com   \n",
       "3     634f8a4d6eec9304e95e43bf     Ataur Rahman        ataur@gmail.com   \n",
       "4     634f8a4d6eec9304e95e43c0   Mamunur Rashid     ma723548@gmail.com   \n",
       "...                        ...              ...                    ...   \n",
       "998   634f8ace6eec9304e95fa36e  Khalilur Rashid       rashid@gmail.com   \n",
       "999   634f8ace6eec9304e95fa36f            sadia        sadia@gmail.com   \n",
       "1000  634f8ace6eec9304e95fa370         Shafique     Shafique@gmail.com   \n",
       "1001  634f8ace6eec9304e95fa371            Faraz        faraz@gmail.com   \n",
       "1002  634f8ace6eec9304e95fa372            Jakir        Jakir@gmail.com   \n",
       "\n",
       "                                          product_model  quantity  price  \\\n",
       "0     Sanhema Spoke Rim Double Folding Bicycle - Whi...         3  15000   \n",
       "1                          Fitbit Ionic GPS Smart Watch         2  25500   \n",
       "2     Stainless Steel Strap Watch For Mens (NN38051S...         1   3500   \n",
       "3     Stainless Steel Strap Watch For Mens (NN38051S...         1   3500   \n",
       "4                                            Realme C35         1  16990   \n",
       "...                                                 ...       ...    ...   \n",
       "998   Xiaomi Haylou RS4 Smartwatch With AMOLED HD Di...         1   3850   \n",
       "999   Stainless Steel Strap Watch For Menâs (NN380...         1   3500   \n",
       "1000                                         Realme C35         1  16990   \n",
       "1001                    Begasso Folding Bicycle- Yellow         1  18000   \n",
       "1002                    Begasso Folding Bicycle- Yellow         1  18000   \n",
       "\n",
       "          address       phone         date   status               message  \n",
       "0          Natore  1521322300   09/10/2022  Pending                    hi  \n",
       "1          Natore  1521322300   09/10/2022  Pending                  okay  \n",
       "2        Fulbaria  1721628756   02/09/2021  Shipped          This is good  \n",
       "3     Lalmonirhat  1721627456   29/10/2021  Shipped          This is good  \n",
       "4          Natore  1721022306   29/10/2021  Shipped                 Hello  \n",
       "...           ...         ...          ...      ...                   ...  \n",
       "998      Jamalpur  1621322300   29/10/2021  Shipped                    Hi  \n",
       "999      Jamalpur  1521327750  2021-10-199  Shipped          This is good  \n",
       "1000      kushtia  1821325400  2021-10-194  Shipped  Is this good enough?  \n",
       "1001    Netrokona  1521322300  2021-10-190  Shipped  Is this good enough?  \n",
       "1002    Netrokona  1521322300   02/11/2022  Shipped  Is this good enough?  \n",
       "\n",
       "[1003 rows x 11 columns]"
      ]
     },
     "execution_count": 58,
     "metadata": {},
     "output_type": "execute_result"
    }
   ],
   "source": [
    "#importing the dataset\n",
    "dataset = pd.read_csv('data.csv',encoding= 'unicode_escape')\n",
    "dataset\n"
   ]
  },
  {
   "cell_type": "code",
   "execution_count": 59,
   "metadata": {},
   "outputs": [
    {
     "data": {
      "text/plain": [
       "ï»¿customer_id    0\n",
       "name              0\n",
       "email             0\n",
       "product_model     0\n",
       "quantity          0\n",
       "price             0\n",
       "address           0\n",
       "phone             0\n",
       "date              0\n",
       "status            0\n",
       "message           0\n",
       "dtype: int64"
      ]
     },
     "execution_count": 59,
     "metadata": {},
     "output_type": "execute_result"
    }
   ],
   "source": [
    "dataset.isnull().sum()"
   ]
  },
  {
   "cell_type": "code",
   "execution_count": 60,
   "metadata": {},
   "outputs": [
    {
     "data": {
      "text/plain": [
       "(1003, 11)"
      ]
     },
     "execution_count": 60,
     "metadata": {},
     "output_type": "execute_result"
    }
   ],
   "source": [
    "dataset.shape"
   ]
  },
  {
   "cell_type": "code",
   "execution_count": 61,
   "metadata": {},
   "outputs": [
    {
     "data": {
      "text/plain": [
       "array(['Natore', 'Fulbaria', 'Lalmonirhat', 'Netrokona', 'Magura',\n",
       "       'Shathkhira', 'panchagarh', 'Noakhali', 'Naogaon', 'Kishorganj',\n",
       "       'Pubail', 'Laksham', 'Jessore', 'Kurigram', 'Shariatpur',\n",
       "       'Tangail', 'Nilfamari', 'Sherpur', 'Barishal', 'Bogra', 'Pabna',\n",
       "       'Chadpur', 'Gopalgang', 'Khulna', 'Faridpur', 'Gazipur',\n",
       "       'Pirojpur', 'Dhaka', 'Sylhet', 'Mymensing', 'Feni', 'Dinajpur',\n",
       "       'Madaripur', 'Rangpur', 'Habiganj', 'Jamalpur', 'Brahmanbaria',\n",
       "       'Rajshahi', 'Joupurhat', 'Meherpur', 'Chapi Nwabganj',\n",
       "       'Narshingdi', 'Naryangang', 'Moulvibazar', 'Sirajganj', 'Jenaidah',\n",
       "       'Cumilla', 'Chuadanga', 'Gaibandha', 'Sunamganj', 'Bhola',\n",
       "       'Sremangal', 'Bagerhat', 'Narail', 'Nilphamari', 'Lakshipur',\n",
       "       'Rajbari', 'kushtia'], dtype=object)"
      ]
     },
     "execution_count": 61,
     "metadata": {},
     "output_type": "execute_result"
    }
   ],
   "source": [
    "dataset.address.unique()"
   ]
  },
  {
   "cell_type": "code",
   "execution_count": 62,
   "metadata": {},
   "outputs": [
    {
     "data": {
      "text/plain": [
       "Shariatpur        50\n",
       "Madaripur         40\n",
       "Sherpur           40\n",
       "Dhaka             40\n",
       "Faridpur          40\n",
       "Kurigram          37\n",
       "Noakhali          30\n",
       "Pubail            30\n",
       "Jessore           30\n",
       "Natore            30\n",
       "Nilfamari         30\n",
       "Gopalgang         30\n",
       "Chadpur           30\n",
       "Feni              30\n",
       "Tangail           30\n",
       "Pirojpur          30\n",
       "Laksham           26\n",
       "Dinajpur          20\n",
       "Bogra             20\n",
       "Rangpur           20\n",
       "Jamalpur          20\n",
       "Khulna            20\n",
       "Barishal          20\n",
       "Pabna             20\n",
       "Rajshahi          20\n",
       "Sylhet            20\n",
       "Kishorganj        18\n",
       "Fulbaria          17\n",
       "Moulvibazar       11\n",
       "Habiganj          11\n",
       "Sunamganj         11\n",
       "Sremangal         11\n",
       "Nilphamari        11\n",
       "Gazipur           10\n",
       "Mymensing         10\n",
       "Shathkhira         8\n",
       "Naryangang         8\n",
       "panchagarh         7\n",
       "Jenaidah           7\n",
       "Cumilla            7\n",
       "Lalmonirhat        6\n",
       "Bhola              6\n",
       "Magura             6\n",
       "Meherpur           6\n",
       "Chuadanga          6\n",
       "Netrokona          6\n",
       "Lakshipur          6\n",
       "Rajbari            6\n",
       "Chapi Nwabganj     6\n",
       "Gaibandha          6\n",
       "Bagerhat           6\n",
       "Narail             6\n",
       "Joupurhat          6\n",
       "Sirajganj          5\n",
       "Brahmanbaria       5\n",
       "Narshingdi         5\n",
       "Naogaon            5\n",
       "kushtia            5\n",
       "Name: address, dtype: int64"
      ]
     },
     "execution_count": 62,
     "metadata": {},
     "output_type": "execute_result"
    }
   ],
   "source": [
    "dataset.address.value_counts()"
   ]
  },
  {
   "cell_type": "code",
   "execution_count": 63,
   "metadata": {},
   "outputs": [],
   "source": [
    "from sklearn.preprocessing import LabelEncoder"
   ]
  },
  {
   "cell_type": "code",
   "execution_count": 64,
   "metadata": {},
   "outputs": [],
   "source": [
    "lb=LabelEncoder()"
   ]
  },
  {
   "cell_type": "code",
   "execution_count": 65,
   "metadata": {},
   "outputs": [],
   "source": [
    "dataset[\"address\"]=lb.fit_transform(dataset[\"address\"])"
   ]
  },
  {
   "cell_type": "code",
   "execution_count": 66,
   "metadata": {},
   "outputs": [],
   "source": [
    "dataset[\"name\"]=lb.fit_transform(dataset[\"name\"])"
   ]
  },
  {
   "cell_type": "code",
   "execution_count": 67,
   "metadata": {},
   "outputs": [],
   "source": [
    "dataset[\"email\"]=lb.fit_transform(dataset[\"email\"])"
   ]
  },
  {
   "cell_type": "code",
   "execution_count": 68,
   "metadata": {},
   "outputs": [],
   "source": [
    "dataset[\"status\"]=lb.fit_transform(dataset[\"status\"])"
   ]
  },
  {
   "cell_type": "code",
   "execution_count": 69,
   "metadata": {},
   "outputs": [],
   "source": [
    "dataset[\"message\"]=lb.fit_transform(dataset[\"message\"])"
   ]
  },
  {
   "cell_type": "code",
   "execution_count": 70,
   "metadata": {},
   "outputs": [],
   "source": [
    "dataset[\"product_model\"]=lb.fit_transform(dataset[\"product_model\"])"
   ]
  },
  {
   "cell_type": "code",
   "execution_count": 71,
   "metadata": {},
   "outputs": [],
   "source": [
    "dataset[\"date\"]=lb.fit_transform(dataset[\"date\"])"
   ]
  },
  {
   "cell_type": "code",
   "execution_count": 72,
   "metadata": {},
   "outputs": [],
   "source": [
    "dataset[\"ï»¿customer_id\"]=lb.fit_transform(dataset[\"ï»¿customer_id\"])"
   ]
  },
  {
   "cell_type": "code",
   "execution_count": 73,
   "metadata": {},
   "outputs": [
    {
     "data": {
      "text/plain": [
       "ï»¿customer_id    int32\n",
       "name              int32\n",
       "email             int32\n",
       "product_model     int32\n",
       "quantity          int64\n",
       "price             int64\n",
       "address           int32\n",
       "phone             int64\n",
       "date              int32\n",
       "status            int32\n",
       "message           int32\n",
       "dtype: object"
      ]
     },
     "execution_count": 73,
     "metadata": {},
     "output_type": "execute_result"
    }
   ],
   "source": [
    "dataset.dtypes"
   ]
  },
  {
   "cell_type": "code",
   "execution_count": 74,
   "metadata": {},
   "outputs": [],
   "source": [
    "X=dataset.drop(['product_model'],axis=1)\n",
    "Y=dataset['product_model']"
   ]
  },
  {
   "cell_type": "code",
   "execution_count": 85,
   "metadata": {},
   "outputs": [
    {
     "data": {
      "text/html": [
       "<div>\n",
       "<style scoped>\n",
       "    .dataframe tbody tr th:only-of-type {\n",
       "        vertical-align: middle;\n",
       "    }\n",
       "\n",
       "    .dataframe tbody tr th {\n",
       "        vertical-align: top;\n",
       "    }\n",
       "\n",
       "    .dataframe thead th {\n",
       "        text-align: right;\n",
       "    }\n",
       "</style>\n",
       "<table border=\"1\" class=\"dataframe\">\n",
       "  <thead>\n",
       "    <tr style=\"text-align: right;\">\n",
       "      <th></th>\n",
       "      <th>ï»¿customer_id</th>\n",
       "      <th>name</th>\n",
       "      <th>email</th>\n",
       "      <th>quantity</th>\n",
       "      <th>price</th>\n",
       "      <th>address</th>\n",
       "      <th>phone</th>\n",
       "      <th>date</th>\n",
       "      <th>status</th>\n",
       "      <th>message</th>\n",
       "    </tr>\n",
       "  </thead>\n",
       "  <tbody>\n",
       "    <tr>\n",
       "      <th>552</th>\n",
       "      <td>552</td>\n",
       "      <td>46</td>\n",
       "      <td>32</td>\n",
       "      <td>1</td>\n",
       "      <td>18000</td>\n",
       "      <td>16</td>\n",
       "      <td>1521322300</td>\n",
       "      <td>11</td>\n",
       "      <td>1</td>\n",
       "      <td>2</td>\n",
       "    </tr>\n",
       "    <tr>\n",
       "      <th>160</th>\n",
       "      <td>160</td>\n",
       "      <td>80</td>\n",
       "      <td>119</td>\n",
       "      <td>1</td>\n",
       "      <td>89990</td>\n",
       "      <td>15</td>\n",
       "      <td>1717322300</td>\n",
       "      <td>34</td>\n",
       "      <td>1</td>\n",
       "      <td>0</td>\n",
       "    </tr>\n",
       "    <tr>\n",
       "      <th>708</th>\n",
       "      <td>708</td>\n",
       "      <td>58</td>\n",
       "      <td>42</td>\n",
       "      <td>1</td>\n",
       "      <td>18000</td>\n",
       "      <td>34</td>\n",
       "      <td>1921322300</td>\n",
       "      <td>6</td>\n",
       "      <td>1</td>\n",
       "      <td>2</td>\n",
       "    </tr>\n",
       "    <tr>\n",
       "      <th>538</th>\n",
       "      <td>538</td>\n",
       "      <td>25</td>\n",
       "      <td>12</td>\n",
       "      <td>1</td>\n",
       "      <td>16990</td>\n",
       "      <td>1</td>\n",
       "      <td>1321325400</td>\n",
       "      <td>32</td>\n",
       "      <td>1</td>\n",
       "      <td>2</td>\n",
       "    </tr>\n",
       "    <tr>\n",
       "      <th>999</th>\n",
       "      <td>999</td>\n",
       "      <td>132</td>\n",
       "      <td>127</td>\n",
       "      <td>1</td>\n",
       "      <td>3500</td>\n",
       "      <td>18</td>\n",
       "      <td>1521327750</td>\n",
       "      <td>28</td>\n",
       "      <td>1</td>\n",
       "      <td>3</td>\n",
       "    </tr>\n",
       "    <tr>\n",
       "      <th>...</th>\n",
       "      <td>...</td>\n",
       "      <td>...</td>\n",
       "      <td>...</td>\n",
       "      <td>...</td>\n",
       "      <td>...</td>\n",
       "      <td>...</td>\n",
       "      <td>...</td>\n",
       "      <td>...</td>\n",
       "      <td>...</td>\n",
       "      <td>...</td>\n",
       "    </tr>\n",
       "    <tr>\n",
       "      <th>767</th>\n",
       "      <td>767</td>\n",
       "      <td>32</td>\n",
       "      <td>20</td>\n",
       "      <td>1</td>\n",
       "      <td>18000</td>\n",
       "      <td>43</td>\n",
       "      <td>1721622306</td>\n",
       "      <td>34</td>\n",
       "      <td>1</td>\n",
       "      <td>1</td>\n",
       "    </tr>\n",
       "    <tr>\n",
       "      <th>72</th>\n",
       "      <td>72</td>\n",
       "      <td>74</td>\n",
       "      <td>117</td>\n",
       "      <td>1</td>\n",
       "      <td>89990</td>\n",
       "      <td>11</td>\n",
       "      <td>1521322300</td>\n",
       "      <td>11</td>\n",
       "      <td>1</td>\n",
       "      <td>0</td>\n",
       "    </tr>\n",
       "    <tr>\n",
       "      <th>908</th>\n",
       "      <td>908</td>\n",
       "      <td>58</td>\n",
       "      <td>42</td>\n",
       "      <td>1</td>\n",
       "      <td>18000</td>\n",
       "      <td>49</td>\n",
       "      <td>1921322300</td>\n",
       "      <td>6</td>\n",
       "      <td>1</td>\n",
       "      <td>2</td>\n",
       "    </tr>\n",
       "    <tr>\n",
       "      <th>235</th>\n",
       "      <td>235</td>\n",
       "      <td>118</td>\n",
       "      <td>88</td>\n",
       "      <td>1</td>\n",
       "      <td>18000</td>\n",
       "      <td>37</td>\n",
       "      <td>1921322384</td>\n",
       "      <td>35</td>\n",
       "      <td>1</td>\n",
       "      <td>0</td>\n",
       "    </tr>\n",
       "    <tr>\n",
       "      <th>37</th>\n",
       "      <td>37</td>\n",
       "      <td>98</td>\n",
       "      <td>69</td>\n",
       "      <td>1</td>\n",
       "      <td>27990</td>\n",
       "      <td>50</td>\n",
       "      <td>1621327750</td>\n",
       "      <td>35</td>\n",
       "      <td>1</td>\n",
       "      <td>3</td>\n",
       "    </tr>\n",
       "  </tbody>\n",
       "</table>\n",
       "<p>752 rows × 10 columns</p>\n",
       "</div>"
      ],
      "text/plain": [
       "     ï»¿customer_id  name  email  quantity  price  address       phone  date  \\\n",
       "552             552    46     32         1  18000       16  1521322300    11   \n",
       "160             160    80    119         1  89990       15  1717322300    34   \n",
       "708             708    58     42         1  18000       34  1921322300     6   \n",
       "538             538    25     12         1  16990        1  1321325400    32   \n",
       "999             999   132    127         1   3500       18  1521327750    28   \n",
       "..              ...   ...    ...       ...    ...      ...         ...   ...   \n",
       "767             767    32     20         1  18000       43  1721622306    34   \n",
       "72               72    74    117         1  89990       11  1521322300    11   \n",
       "908             908    58     42         1  18000       49  1921322300     6   \n",
       "235             235   118     88         1  18000       37  1921322384    35   \n",
       "37               37    98     69         1  27990       50  1621327750    35   \n",
       "\n",
       "     status  message  \n",
       "552       1        2  \n",
       "160       1        0  \n",
       "708       1        2  \n",
       "538       1        2  \n",
       "999       1        3  \n",
       "..      ...      ...  \n",
       "767       1        1  \n",
       "72        1        0  \n",
       "908       1        2  \n",
       "235       1        0  \n",
       "37        1        3  \n",
       "\n",
       "[752 rows x 10 columns]"
      ]
     },
     "execution_count": 85,
     "metadata": {},
     "output_type": "execute_result"
    }
   ],
   "source": [
    "from sklearn.model_selection import train_test_split\n",
    "xtrain, xtest, ytrain, ytest= train_test_split(X,Y,test_size=.25,random_state=1)\n",
    "xtrain\n"
   ]
  },
  {
   "cell_type": "code",
   "execution_count": 86,
   "metadata": {},
   "outputs": [
    {
     "data": {
      "text/plain": [
       "LinearRegression()"
      ]
     },
     "execution_count": 86,
     "metadata": {},
     "output_type": "execute_result"
    }
   ],
   "source": [
    "from sklearn import linear_model\n",
    "lr=linear_model.LinearRegression()\n",
    "lr.fit(xtrain,ytrain)"
   ]
  },
  {
   "cell_type": "code",
   "execution_count": 83,
   "metadata": {},
   "outputs": [
    {
     "data": {
      "text/plain": [
       "0.026945586888258766"
      ]
     },
     "execution_count": 83,
     "metadata": {},
     "output_type": "execute_result"
    }
   ],
   "source": [
    "lr.score(xtest,ytest)"
   ]
  },
  {
   "cell_type": "code",
   "execution_count": 87,
   "metadata": {},
   "outputs": [
    {
     "data": {
      "text/plain": [
       "0.9464924503972381"
      ]
     },
     "execution_count": 87,
     "metadata": {},
     "output_type": "execute_result"
    }
   ],
   "source": [
    "from sklearn import tree\n",
    "#print(ytest[0])\n",
    "clf = tree.DecisionTreeRegressor()\n",
    "clf.fit(xtrain,ytrain)\n",
    "#p=clf.predict(xtest)\n",
    "#print(p)\n",
    "\n",
    "clf.score(xtest,ytest)"
   ]
  },
  {
   "cell_type": "code",
   "execution_count": 88,
   "metadata": {},
   "outputs": [
    {
     "data": {
      "text/plain": [
       "0.9960159362549801"
      ]
     },
     "execution_count": 88,
     "metadata": {},
     "output_type": "execute_result"
    }
   ],
   "source": [
    "from sklearn.ensemble import RandomForestClassifier\n",
    "\n",
    "rm=RandomForestClassifier()\n",
    "\n",
    "rm.fit(xtrain,ytrain)\n",
    "\n",
    "rm.score(xtest,ytest)"
   ]
  },
  {
   "cell_type": "code",
   "execution_count": 89,
   "metadata": {},
   "outputs": [
    {
     "data": {
      "text/plain": [
       "1.0"
      ]
     },
     "execution_count": 89,
     "metadata": {},
     "output_type": "execute_result"
    }
   ],
   "source": [
    "from sklearn.ensemble import RandomForestClassifier\n",
    "\n",
    "rm=RandomForestClassifier()\n",
    "\n",
    "rm.fit(xtrain,ytrain)\n",
    "\n",
    "rm.score(xtest,ytest)"
   ]
  },
  {
   "cell_type": "code",
   "execution_count": 93,
   "metadata": {},
   "outputs": [
    {
     "data": {
      "text/plain": [
       "0.40239043824701193"
      ]
     },
     "execution_count": 93,
     "metadata": {},
     "output_type": "execute_result"
    }
   ],
   "source": [
    "from sklearn.naive_bayes import GaussianNB\n",
    "\n",
    "GNB=GaussianNB()\n",
    "\n",
    "GNB.fit(xtrain,ytrain)\n",
    "\n",
    "GNB.score(xtest,ytest)"
   ]
  },
  {
   "cell_type": "code",
   "execution_count": 94,
   "metadata": {},
   "outputs": [
    {
     "data": {
      "text/plain": [
       "0.40239043824701193"
      ]
     },
     "execution_count": 94,
     "metadata": {},
     "output_type": "execute_result"
    }
   ],
   "source": [
    "from sklearn.naive_bayes import GaussianNB\n",
    "\n",
    "GNB=GaussianNB()\n",
    "\n",
    "GNB.fit(xtrain,ytrain)\n",
    "\n",
    "GNB.score(xtest,ytest)"
   ]
  },
  {
   "cell_type": "code",
   "execution_count": null,
   "metadata": {},
   "outputs": [],
   "source": []
  }
 ],
 "metadata": {
  "kernelspec": {
   "display_name": "Python 3",
   "language": "python",
   "name": "python3"
  },
  "language_info": {
   "codemirror_mode": {
    "name": "ipython",
    "version": 3
   },
   "file_extension": ".py",
   "mimetype": "text/x-python",
   "name": "python",
   "nbconvert_exporter": "python",
   "pygments_lexer": "ipython3",
   "version": "3.8.3"
  }
 },
 "nbformat": 4,
 "nbformat_minor": 4
}
